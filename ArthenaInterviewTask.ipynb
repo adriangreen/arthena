{
 "cells": [
  {
   "cell_type": "markdown",
   "metadata": {},
   "source": [
    "# Arthena Interview Task"
   ]
  },
  {
   "cell_type": "markdown",
   "metadata": {},
   "source": [
    "## Question 1"
   ]
  },
  {
   "cell_type": "markdown",
   "metadata": {},
   "source": [
    "### Section 1.1\n",
    "\n",
    "<b> Column Assumptions </b>\n",
    "Most relevant:  medium, date of execution, materials\n",
    "Certain works by artists are more likely to be more valued than others. For example Picasso is most famous for his paintings, not his earthenware pieces. Similarly, certains eras in an artists life will be more popular. \n",
    "Least relevant:  Auction location, nth_lot_in_auction\n",
    "Items in auctions are most normally announced ahead of time, so buyers will know which lots they want to spend money on\n",
    "\n",
    "<b> Categorial and Currency Features </b>\n",
    "Categorical features will be encoded as one-hot vectors, and for consistency all currencies will be converted into USD based on historical exchange rates. \n",
    "\n",
    "<b> Time Variance and IID data </b>\n",
    "Given that this data is a time series, we cannot assume that the data is IID. This means that we will have to take special care in our modeling to account for this"
   ]
  },
  {
   "cell_type": "code",
   "execution_count": null,
   "metadata": {},
   "outputs": [],
   "source": []
  }
 ],
 "metadata": {
  "kernelspec": {
   "display_name": "Python 3",
   "language": "python",
   "name": "python3"
  },
  "language_info": {
   "codemirror_mode": {
    "name": "ipython",
    "version": 3
   },
   "file_extension": ".py",
   "mimetype": "text/x-python",
   "name": "python",
   "nbconvert_exporter": "python",
   "pygments_lexer": "ipython3",
   "version": "3.6.5"
  }
 },
 "nbformat": 4,
 "nbformat_minor": 2
}
